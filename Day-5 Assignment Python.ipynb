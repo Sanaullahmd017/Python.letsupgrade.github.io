{
 "cells": [
  {
   "cell_type": "code",
   "execution_count": 1,
   "metadata": {},
   "outputs": [
    {
     "name": "stdout",
     "output_type": "stream",
     "text": [
      "Enter the length of list 2\n",
      "Enter the number 2\n",
      "Enter the number 3\n",
      "It's Gone\n"
     ]
    }
   ],
   "source": [
    "length = int(input(\"Enter the length of list \"))\n",
    "\n",
    "test=[1,1,5]\n",
    "\n",
    "lst=[]\n",
    "\n",
    "for i in range (0,length):\n",
    "\n",
    "    inp = int(input(\"Enter the number \"))\n",
    "\n",
    "    lst.append(inp)\n",
    "\n",
    "    \n",
    "\n",
    "j=0\n",
    "\n",
    "\n",
    " \n",
    "\n",
    "for i in range (0,length):\n",
    "\n",
    "    if(lst[i] == test[j]):\n",
    "\n",
    "        j += 1\n",
    "\n",
    "        i += 1\n",
    "\n",
    "    else:\n",
    "\n",
    "        i += 1\n",
    "\n",
    "\n",
    " \n",
    "\n",
    "if(j == 3):\n",
    "\n",
    "    print (\"It's a match\")\n",
    "\n",
    "else:\n",
    "\n",
    "    print (\"It's Gone\")"
   ]
  },
  {
   "cell_type": "code",
   "execution_count": 2,
   "metadata": {},
   "outputs": [],
   "source": [
    "#Q-2Make a function for prime number and use filter to filter out all the prime number from 1-2500."
   ]
  },
  {
   "cell_type": "code",
   "execution_count": 11,
   "metadata": {},
   "outputs": [
    {
     "name": "stdout",
     "output_type": "stream",
     "text": [
      "Enter upper limit: 10\n",
      "2\n",
      "3\n",
      "5\n",
      "7\n"
     ]
    }
   ],
   "source": [
    "r=int(input(\"Enter upper limit: \"))\n",
    "for a in range(2,r+1):\n",
    "    k=0\n",
    "    for i in range(2,a//2+1):\n",
    "        if(a%i==0):\n",
    "            k=k+1\n",
    "    if(k<=0):\n",
    "        print(a)"
   ]
  },
  {
   "cell_type": "code",
   "execution_count": 12,
   "metadata": {},
   "outputs": [],
   "source": [
    "#Q3-Make a Lambda function for capitalizing the whole sentence passed using arguments. \n",
    "#and map all the sentences in the list, with lambda function"
   ]
  },
  {
   "cell_type": "code",
   "execution_count": 21,
   "metadata": {},
   "outputs": [
    {
     "name": "stdout",
     "output_type": "stream",
     "text": [
      "[\"I'am Sanaullah\", 'I Live in Hyderabad', \"I'am a  Student of Letsupgrade\"]\n"
     ]
    }
   ],
   "source": [
    "li = [\"I'am Sanaullah\",\"I Live in Hyderabad\",\"I'am a  Student of Letsupgrade\"] \n",
    "final_list = list(map(lambda x: x*1 , li)) \n",
    "print(final_list) "
   ]
  },
  {
   "cell_type": "code",
   "execution_count": null,
   "metadata": {},
   "outputs": [],
   "source": []
  }
 ],
 "metadata": {
  "kernelspec": {
   "display_name": "Python 3",
   "language": "python",
   "name": "python3"
  },
  "language_info": {
   "codemirror_mode": {
    "name": "ipython",
    "version": 3
   },
   "file_extension": ".py",
   "mimetype": "text/x-python",
   "name": "python",
   "nbconvert_exporter": "python",
   "pygments_lexer": "ipython3",
   "version": "3.8.3"
  }
 },
 "nbformat": 4,
 "nbformat_minor": 4
}
